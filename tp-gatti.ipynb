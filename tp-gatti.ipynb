{
    "cells": [
        {
            "cell_type": "markdown",
            "metadata": {
                "id": "asd"
            },
            "source": [
                "# Planificacion de rutas con IA\n",
                "\n",
                "Este notebook permite gerar la planificacion de rutas para los viajes de camiones generales utilizando las API de OpenAI"
            ]
        },
        {
            "cell_type": "code",
            "execution_count": null,
            "metadata": {
                "id": "zxc"
            },
            "outputs": [],
            "source": [
                "\n",
                "!pip install openai==0.25\n",
                "import openai\n",
                "import json\n",
                "import requests\n",
                "from io import BytesIO\n",
                "from PIL import Image\n",
                "from IPython.display import display\n",
                "\n",
                "# Configurando la API KEY desde variables de entorno\n",
                "os.environ[\"OPENAI_API_KEY\"] = \"PONE_TU_API_KEY\"\n",
                "openai.api_key = os.getenv(\"OPENAI_API_KEY\")\n",
                "if not openai.api_key:\n",
                "    raise ValueError(\"OPENAI_API_KEY is not set\")\n",
                "\n"
            ]
        },
        {
            "cell_type": "code",
            "execution_count": null,
            "metadata": {
                "id": "apoytrgb"
            },
            "outputs": [],
            "source": [
                "\n",
                "def generar_planificacion_de_ruta(prompt):\n",
                "    try:\n",
                "        #Generar la ruta\n",
                "        cliente = openai.ChatCompletion.create(\n",
                "            model=\"gpt-3.5-turbo\",\n",
                "            messages=[{\"role\":\"user\",\"content\":prompt}],\n",
                "            temperature=0.7,\n",
                "        )\n",
                "        ruta = cliente.choices[0].message[\"content\"]\n",
                "\n",
                "        if ruta:\n",
                "            print(\"Ruta generada correctamente.\")\n",
                "            return ruta\n",
                "        else:\n",
                "            print(\"No se pudo generar la ruta.\")\n",
                "    except openai.error.OpenAIError as e:\n",
                "        print(\"Error al generar la ruta: {e}\")\n",
                "    return None\n"
            ]
        },
        {
            "cell_type": "code",
            "execution_count": null,
            "metadata": {
                "id": "jdshabjanaaj"
            },
            "outputs": [],
            "source": [
                "\n",
                "def obtener_imagen_de_ruta(prompt):\n",
                "    try:\n",
                "        # Generar la imagen en el mismo prompt\n",
                "        respuesta = openai.Image.create(\n",
                "            prompt=prompt,\n",
                "            n=1,\n",
                "            size=\"256x256\",\n",
                "        )\n",
                "        imagen_url = respuesta[\"data\"][0][\"url\"]\n",
                "\n",
                "        return imagen_url\n",
                "    except Exception as e:\n",
                "        print(f\"Error al generar la imagen: {e}\")\n",
                "        return None\n"
            ]
        },
        {
            "cell_type": "code",
            "execution_count": null,
            "metadata": {
                "id": "apoytrgb"
            },
            "outputs": [],
            "source": [
                "\n",
                "# Entrada de usuario\n",
                "prompt = input(\"Escribe tu prompt para generar el analisis de datos: \")\n",
                "\n",
                "ruta = generar_planificacion_de_ruta(prompt)\n",
                "if ruta:\n",
                "    print(\"Ruta generada:\", ruta)\n",
                "    imagen_url = obtener_imagen_de_ruta(prompt)\n",
                "\n",
                "    if imagen_url:\n",
                "        print(\"URL de la imagen generada:\", imagen_url)\n",
                "        respuesta = requests.get(imagen_url)\n",
                "        imagen = Image.open(BytesIO(respuesta.content))\n",
                "        display(imagen)\n",
                "else:\n",
                "        print(\"No se pudo generar la ruta.\")\n"
            ]
        }
    ],
    "metadata": {
        "colab": {
            "provenance": []
        },
        "kernelspec": {
            "display_name": "Python 3",
            "name": "python3"
        },
        "language_info": {
            "name": "python",
            "version": "3.8.1"
        }
    },
    "nbformat": 4,
    "nbformat_minor": 0
}
